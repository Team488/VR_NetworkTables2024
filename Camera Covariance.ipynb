{
 "cells": [
  {
   "cell_type": "code",
   "execution_count": null,
   "metadata": {},
   "outputs": [],
   "source": [
    "\n",
    "import numpy as np\n",
    "from icecream import ic\n",
    "from tracker_coordinate_transform import *\n",
    "from trackercal import *\n",
    "import ntcore\n",
    "from wpimath.geometry import Pose2d,Rotation2d,Translation2d\n",
    "import tracker_sample"
   ]
  },
  {
   "cell_type": "code",
   "execution_count": null,
   "metadata": {},
   "outputs": [
    {
     "ename": "AttributeError",
     "evalue": "'NetworkTablesInstance' object has no attribute 'NetworkTableInstance'",
     "output_type": "error",
     "traceback": [
      "\u001b[1;31m---------------------------------------------------------------------------\u001b[0m",
      "\u001b[1;31mAttributeError\u001b[0m                            Traceback (most recent call last)",
      "Cell \u001b[1;32mIn[5], line 3\u001b[0m\n\u001b[0;32m      1\u001b[0m \u001b[38;5;66;03m# Connect to the robot Network tables\u001b[39;00m\n\u001b[0;32m      2\u001b[0m robotIP \u001b[38;5;241m=\u001b[39m\u001b[38;5;124m\"\u001b[39m\u001b[38;5;124m10.4.88.2\u001b[39m\u001b[38;5;124m\"\u001b[39m\n\u001b[1;32m----> 3\u001b[0m inst \u001b[38;5;241m=\u001b[39m \u001b[43mnt\u001b[49m\u001b[38;5;241;43m.\u001b[39;49m\u001b[43mNetworkTableInstance\u001b[49m\u001b[38;5;241m.\u001b[39mgetDefault()\n\u001b[0;32m      4\u001b[0m inst\u001b[38;5;241m.\u001b[39msetServer(robotIP)\n\u001b[0;32m      5\u001b[0m inst\u001b[38;5;241m.\u001b[39mstartClient4(\u001b[38;5;124m\"\u001b[39m\u001b[38;5;124mVR_trackers_Camera_Covariance\u001b[39m\u001b[38;5;124m\"\u001b[39m)\n",
      "\u001b[1;31mAttributeError\u001b[0m: 'NetworkTablesInstance' object has no attribute 'NetworkTableInstance'"
     ]
    }
   ],
   "source": [
    "# Connect to the robot Network tables\n",
    "robotIP =\"10.4.88.2\"\n",
    "inst = ntcore.NetworkTableInstance.getDefault()\n",
    "inst.setServer(robotIP)\n",
    "inst.startClient4(\"VR_trackers_Camera_Covariance\")\n",
    "\n",
    "table = inst.getTable(\"Trackers\")\n",
    "posePub_tracker_1 = table.getStructTopic(\"Tracker_1\", Pose2d).subscribe(Pose2d(999, 999, 999))\n",
    "posePub_tracker_2 = table.getStructTopic(\"Tracker_2\", Pose2d).subscribe(Pose2d(999, 999, 999))\n",
    "posePub_tracker_3 = table.getStructTopic(\"Tracker_3\", Pose2d).subscribe(Pose2d(999, 999, 999))\n",
    "\n",
    "# Get the current robot pose from AdvantageKit\n",
    "robotPoseTable = inst.getTable(\"/AdvantageKit/RealOutputs/PoseSubsystem\")\n",
    "#robotPoseSubX = robotPoseTable.getFloatTopic(\"/AdvantageKit/RealOutputs/PoseSubsystem/RobotPose/translation/x\").subscribe(999.0)\n",
    "robotPoseSub = robotPoseTable.getStructTopic(\"RobotPose\", Pose2d).subscribe(Pose2d(999, 999, 999))\n",
    "time.sleep(5) # Wait for the robot pose to be published. TODO: experiment with this value\n"
   ]
  },
  {
   "cell_type": "code",
   "execution_count": null,
   "metadata": {},
   "outputs": [],
   "source": [
    "robotPose = robotPoseSub.get()\n",
    "pose_x = robotPose.X() \n",
    "pose_y = robotPose.Y() \n",
    "pose_angle = robotPose.Rotation().Degrees()\n",
    "ic(pose_x,pose_y,pose_angle)\n"
   ]
  },
  {
   "cell_type": "code",
   "execution_count": null,
   "metadata": {},
   "outputs": [],
   "source": []
  }
 ],
 "metadata": {
  "kernelspec": {
   "display_name": "FRC",
   "language": "python",
   "name": "python3"
  },
  "language_info": {
   "codemirror_mode": {
    "name": "ipython",
    "version": 3
   },
   "file_extension": ".py",
   "mimetype": "text/x-python",
   "name": "python",
   "nbconvert_exporter": "python",
   "pygments_lexer": "ipython3",
   "version": "3.12.7"
  }
 },
 "nbformat": 4,
 "nbformat_minor": 2
}
