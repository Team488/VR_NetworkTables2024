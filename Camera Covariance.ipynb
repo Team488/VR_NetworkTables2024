{
 "cells": [
  {
   "cell_type": "code",
   "execution_count": 7,
   "metadata": {},
   "outputs": [],
   "source": [
    "\n",
    "import numpy as np\n",
    "from icecream import ic\n",
    "from tracker_coordinate_transform import *\n",
    "from trackercal import *\n",
    "import ntcore\n",
    "from wpimath.geometry import Pose2d,Rotation2d,Translation2d,Transform3d,Translation3d\n",
    "import tracker_sample"
   ]
  },
  {
   "cell_type": "code",
   "execution_count": 9,
   "metadata": {},
   "outputs": [],
   "source": [
    "# Connect to the robot Network tables\n",
    "robotIP =\"10.4.88.2\"\n",
    "inst = ntcore.NetworkTableInstance.getDefault()\n",
    "inst.setServer(robotIP)\n",
    "inst.startClient4(\"VR_trackers_Camera_Covariance\")\n",
    "\n",
    "table = inst.getTable(\"Trackers\")\n",
    "posePub_tracker_1 = table.getStructTopic(\"Tracker_1\", Pose2d).subscribe(Pose2d(999, 999, 999))\n",
    "posePub_tracker_2 = table.getStructTopic(\"Tracker_2\", Pose2d).subscribe(Pose2d(999, 999, 999))\n",
    "posePub_tracker_3 = table.getStructTopic(\"Tracker_3\", Pose2d).subscribe(Pose2d(999, 999, 999))\n",
    "\n",
    "# Get the current robot pose from AdvantageKit\n",
    "robotPoseTable = inst.getTable(\"/AdvantageKit/RealOutputs/PoseSubsystem\")\n",
    "#robotPoseSubX = robotPoseTable.getFloatTopic(\"/AdvantageKit/RealOutputs/PoseSubsystem/RobotPose/translation/x\").subscribe(999.0)\n",
    "robotPoseSub = robotPoseTable.getStructTopic(\"RobotPose\", Pose2d).subscribe(Pose2d(999, 999, 999))\n",
    "\n",
    "aprilTagPoseTable = inst.getTable(\"/photonvision/Apriltag_RealLeft_Camera/targetPose/translation\")\n",
    "aprilTagPoseSub = aprilTagPoseTable.getStructTopic(\"translation\", Translation3d).subscribe(Translation3d(999,999,999))\n",
    "\n",
    "time.sleep(5) # Wait for the robot pose to be published. TODO: experiment with this value\n"
   ]
  },
  {
   "cell_type": "code",
   "execution_count": 14,
   "metadata": {},
   "outputs": [
    {
     "name": "stderr",
     "output_type": "stream",
     "text": [
      "ic| pose_x: 3.2207715960112235\n",
      "    pose_y: 7.554492248685337\n",
      "    pose_angle: -55.464344135763255\n",
      "ic| tracker1_x: 3.5614765874799312\n",
      "    tracker1_y: 7.471695859052636\n",
      "    tracker1_angle: -61.248027153808195\n",
      "ic| aprilTagRL.X(): 999.0, aprilTagRL.Y(): 999.0\n"
     ]
    },
    {
     "data": {
      "text/plain": [
       "(999.0, 999.0)"
      ]
     },
     "execution_count": 14,
     "metadata": {},
     "output_type": "execute_result"
    }
   ],
   "source": [
    "robotPose = robotPoseSub.get()\n",
    "pose_x = robotPose.X() \n",
    "pose_y = robotPose.Y() \n",
    "pose_angle = robotPose.rotation().degrees()\n",
    "ic(pose_x,pose_y,pose_angle)\n",
    "\n",
    "tracker1 = posePub_tracker_1.get()\n",
    "tracker1_x = tracker1.X()\n",
    "tracker1_y = tracker1.Y()\n",
    "tracker1_angle = tracker1.rotation().degrees()\n",
    "ic(tracker1_x,tracker1_y,tracker1_angle)\n",
    "\n",
    "aprilTagRL = aprilTagPoseSub.get()\n",
    "ic(aprilTagRL.X(),aprilTagRL.Y())\n",
    "\n"
   ]
  },
  {
   "cell_type": "code",
   "execution_count": 17,
   "metadata": {},
   "outputs": [
    {
     "name": "stdout",
     "output_type": "stream",
     "text": [
      "Done\n"
     ]
    }
   ],
   "source": [
    "# Collect N points\n",
    "keepRunning = True\n",
    "counter = 0\n",
    "Ncount = 10\n",
    "sleepTime = 0.1\n",
    "datastream = []\n",
    "while keepRunning:\n",
    "    ic.disable()\n",
    "    robotPose = robotPoseSub.get()\n",
    "    pose_x = robotPose.X() \n",
    "    pose_y = robotPose.Y() \n",
    "    pose_angle = robotPose.rotation().degrees()\n",
    "    ic(pose_x,pose_y,pose_angle)\n",
    "\n",
    "    tracker1 = posePub_tracker_1.get()\n",
    "    tracker1_x = tracker1.X()\n",
    "    tracker1_y = tracker1.Y()\n",
    "    tracker1_angle = tracker1.rotation().degrees()\n",
    "    ic(tracker1_x,tracker1_y,tracker1_angle)\n",
    "\n",
    "    aprilTagRL = aprilTagPoseSub.get()\n",
    "    ic(aprilTagRL.X(),aprilTagRL.Y())\n",
    "    time.sleep(sleepTime)\n",
    "\n",
    "    datastream.append([robotPose,tracker1,aprilTagRL])\n",
    "    \n",
    "    \n",
    "    counter += 1\n",
    "\n",
    "    if counter > Ncount:\n",
    "        keepRunning = False # Set to False to stop the loop\n",
    "\n",
    "print(\"Done\")"
   ]
  },
  {
   "cell_type": "code",
   "execution_count": 18,
   "metadata": {},
   "outputs": [
    {
     "data": {
      "text/plain": [
       "[[Pose2d(Translation2d(x=999.000000, y=999.000000), Rotation2d(999.000000)),\n",
       "  Pose2d(Translation2d(x=999.000000, y=999.000000), Rotation2d(999.000000)),\n",
       "  Translation3d(x=999.000000, y=999.000000, z=999.000000)],\n",
       " [Pose2d(Translation2d(x=999.000000, y=999.000000), Rotation2d(999.000000)),\n",
       "  Pose2d(Translation2d(x=999.000000, y=999.000000), Rotation2d(999.000000)),\n",
       "  Translation3d(x=999.000000, y=999.000000, z=999.000000)],\n",
       " [Pose2d(Translation2d(x=999.000000, y=999.000000), Rotation2d(999.000000)),\n",
       "  Pose2d(Translation2d(x=999.000000, y=999.000000), Rotation2d(999.000000)),\n",
       "  Translation3d(x=999.000000, y=999.000000, z=999.000000)],\n",
       " [Pose2d(Translation2d(x=999.000000, y=999.000000), Rotation2d(999.000000)),\n",
       "  Pose2d(Translation2d(x=999.000000, y=999.000000), Rotation2d(999.000000)),\n",
       "  Translation3d(x=999.000000, y=999.000000, z=999.000000)],\n",
       " [Pose2d(Translation2d(x=999.000000, y=999.000000), Rotation2d(999.000000)),\n",
       "  Pose2d(Translation2d(x=999.000000, y=999.000000), Rotation2d(999.000000)),\n",
       "  Translation3d(x=999.000000, y=999.000000, z=999.000000)],\n",
       " [Pose2d(Translation2d(x=999.000000, y=999.000000), Rotation2d(999.000000)),\n",
       "  Pose2d(Translation2d(x=999.000000, y=999.000000), Rotation2d(999.000000)),\n",
       "  Translation3d(x=999.000000, y=999.000000, z=999.000000)],\n",
       " [Pose2d(Translation2d(x=999.000000, y=999.000000), Rotation2d(999.000000)),\n",
       "  Pose2d(Translation2d(x=999.000000, y=999.000000), Rotation2d(999.000000)),\n",
       "  Translation3d(x=999.000000, y=999.000000, z=999.000000)],\n",
       " [Pose2d(Translation2d(x=999.000000, y=999.000000), Rotation2d(999.000000)),\n",
       "  Pose2d(Translation2d(x=999.000000, y=999.000000), Rotation2d(999.000000)),\n",
       "  Translation3d(x=999.000000, y=999.000000, z=999.000000)],\n",
       " [Pose2d(Translation2d(x=999.000000, y=999.000000), Rotation2d(999.000000)),\n",
       "  Pose2d(Translation2d(x=999.000000, y=999.000000), Rotation2d(999.000000)),\n",
       "  Translation3d(x=999.000000, y=999.000000, z=999.000000)],\n",
       " [Pose2d(Translation2d(x=999.000000, y=999.000000), Rotation2d(999.000000)),\n",
       "  Pose2d(Translation2d(x=999.000000, y=999.000000), Rotation2d(999.000000)),\n",
       "  Translation3d(x=999.000000, y=999.000000, z=999.000000)],\n",
       " [Pose2d(Translation2d(x=999.000000, y=999.000000), Rotation2d(999.000000)),\n",
       "  Pose2d(Translation2d(x=999.000000, y=999.000000), Rotation2d(999.000000)),\n",
       "  Translation3d(x=999.000000, y=999.000000, z=999.000000)]]"
      ]
     },
     "execution_count": 18,
     "metadata": {},
     "output_type": "execute_result"
    }
   ],
   "source": [
    "ic(datastream)"
   ]
  }
 ],
 "metadata": {
  "kernelspec": {
   "display_name": "Python 3",
   "language": "python",
   "name": "python3"
  },
  "language_info": {
   "codemirror_mode": {
    "name": "ipython",
    "version": 3
   },
   "file_extension": ".py",
   "mimetype": "text/x-python",
   "name": "python",
   "nbconvert_exporter": "python",
   "pygments_lexer": "ipython3",
   "version": "3.12.6"
  },
  "vscode": {
   "interpreter": {
    "hash": "3fcbd7240ee8f908d933dc7f71e8c42a1a91163b70ede8dcff5146d4087436c7"
   }
  }
 },
 "nbformat": 4,
 "nbformat_minor": 2
}
