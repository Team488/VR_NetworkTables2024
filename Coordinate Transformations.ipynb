{
 "cells": [
  {
   "cell_type": "code",
   "execution_count": 5,
   "metadata": {},
   "outputs": [],
   "source": [
    "import numpy as np\n",
    "from icecream import ic"
   ]
  },
  {
   "cell_type": "code",
   "execution_count": 3,
   "metadata": {},
   "outputs": [],
   "source": [
    "def compute_transformation_matrix(src_points, dst_points):\n",
    "    assert len(src_points) == len(dst_points) == 3, \"Need three points for a unique solution\"\n",
    "    \n",
    "    A = []\n",
    "    B = []\n",
    "    \n",
    "    for (src, dst) in zip(src_points, dst_points):\n",
    "        A.append([src[0], src[1], 1, 0, 0, 0])\n",
    "        A.append([0, 0, 0, src[0], src[1], 1])\n",
    "        B.append(dst[0])\n",
    "        B.append(dst[1])\n",
    "    \n",
    "    A = np.array(A)\n",
    "    B = np.array(B)\n",
    "    \n",
    "    # Solve the linear system\n",
    "    transform_params = np.linalg.solve(A, B)\n",
    "    \n",
    "    # Create the transformation matrix\n",
    "    transformation_matrix = np.array([\n",
    "        [transform_params[0], transform_params[1], transform_params[2]],\n",
    "        [transform_params[3], transform_params[4], transform_params[5]],\n",
    "        [0, 0, 1]\n",
    "    ])\n",
    "    \n",
    "    return transformation_matrix"
   ]
  },
  {
   "cell_type": "code",
   "execution_count": 6,
   "metadata": {},
   "outputs": [],
   "source": [
    "def transform_point(point, transformation_matrix):\n",
    "    homogenous_point = np.array([point[0], point[1], 1])\n",
    "    transformed_point = np.dot(transformation_matrix, homogenous_point)\n",
    "    return transformed_point[:2]"
   ]
  },
  {
   "cell_type": "code",
   "execution_count": null,
   "metadata": {},
   "outputs": [],
   "source": [
    "# Example points\n",
    "#src_points = [(0, 0), (1, 0), (0, 1)]\n",
    "#dst_points = [(2, 3), (3, 3), (2, 4)]\n",
    "\n",
    "src_points = [(-0.242, -2.690),(-2.179, -3.207),(-0.773, -0.784)]\n",
    "dst_points = [(0, 0),(2, 0),(0, 2)]\n",
    "\n",
    "\n",
    "# Compute the transformation matrix\n",
    "transformation_matrix = ic(compute_transformation_matrix(src_points, dst_points))\n",
    "\n",
    "\n",
    "# Transform a point (x, y)\n",
    "point1 = (-2.179, -3.207)\n",
    "point2 = (-0.242, -2.690)\n",
    "point3 = (-0.773, -0.784)\n",
    "point4 = (-1.0,-1.0)\n",
    "\n",
    "for point in [point1, point2, point3, point4]:\n",
    "    transformed_point = ic(transform_point(point, transformation_matrix))\n",
    "\n",
    "#print(f\"Transformed Point: {transformed_point}\")"
   ]
  },
  {
   "cell_type": "code",
   "execution_count": null,
   "metadata": {},
   "outputs": [],
   "source": [
    "import matplotlib.pyplot as plt\n",
    "\n",
    "\n",
    "# Separate the points into x and y coordinates for plotting\n",
    "src_x, src_y = zip(*src_points)\n",
    "dst_x, dst_y = zip(*dst_points)\n",
    "\n",
    "# Create the plot\n",
    "plt.figure(figsize=(8, 6))\n",
    "plt.scatter(src_x, src_y, color='blue', label='Source Points')\n",
    "plt.scatter(dst_x, dst_y, color='red', label='Destination Points')\n",
    "\n",
    "# Add lines connecting corresponding points\n",
    "for i in range(len(src_points)):\n",
    "    plt.plot([src_points[i][0], dst_points[i][0]], [src_points[i][1], dst_points[i][1]], 'gray', linestyle='--')\n",
    "\n",
    "# Add labels and title\n",
    "plt.xlabel('X Coordinate')\n",
    "plt.ylabel('Y Coordinate')\n",
    "plt.title('Source and Destination Points')\n",
    "plt.legend()\n",
    "plt.grid(True)\n",
    "\n",
    "# Show the plot\n",
    "plt.show()\n"
   ]
  }
 ],
 "metadata": {
  "kernelspec": {
   "display_name": "qiskitv1",
   "language": "python",
   "name": "python3"
  },
  "language_info": {
   "codemirror_mode": {
    "name": "ipython",
    "version": 3
   },
   "file_extension": ".py",
   "mimetype": "text/x-python",
   "name": "python",
   "nbconvert_exporter": "python",
   "pygments_lexer": "ipython3",
   "version": "3.10.14"
  }
 },
 "nbformat": 4,
 "nbformat_minor": 2
}
